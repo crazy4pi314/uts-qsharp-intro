{
 "cells": [
  {
   "cell_type": "markdown",
   "metadata": {
    "slideshow": {
     "slide_type": "slide"
    }
   },
   "source": [
    "# Introduction to Q#: A high level quantum development language for everyone\n",
    "### Seminar for [University of Technology Sydney](https://www.uts.edu.au/research-and-teaching/our-research/centre-quantum-software-and-information/events/online-seminar-dr-sarah-kaiser-wa-usa) \n",
    "\n",
    "Dr. Sarah Kaiser |  [@crazy4pi314](twitter.com/crazy4pi314) |  7 Sept 2020\n",
    "\n",
    "---\n",
    "\n",
    "Talk slides/Jupyter Notebook can be found at [bit.ly/qsharp-uts](TODO)\n",
    "    \n",
    "<center>\n",
    "    <a src=\"http://unitary.fund\"> <img src=\"https://img.shields.io/badge/Supported%20By-UNITARY%20FUND-brightgreen.svg?style=flat\" width=\"20%\" align=\"center\"/> </a>\n",
    "    <img src=\"https://img.shields.io/github/license/crazy4pi314/uts-qsharp-intro\" width=\"8.5%\" align=\"center\"/>\n",
    "</center>   "
   ]
  },
  {
   "cell_type": "markdown",
   "metadata": {
    "slideshow": {
     "slide_type": "skip"
    }
   },
   "source": [
    "### Abstract\n",
    "As the field of quantum computing expands from the academic to the industry realm, we need a way that we can continue to collaborate and innovate in both regimes. Open source quantum software development platforms like the Quantum Development Kit and Q# from Microsoft, serve as a bridge to connect research ideas to reality.\n",
    "In this talk, I will give you a tour of what you can do with Q# and show you an example of how I am using it in my own research on qRAMs. After this talk, you will have the resources you need to dive into using Q# for your own research projects!\n",
    "\n",
    "---\n",
    "\n",
    "#### Installation instructions for running this notebook on your machine can be found [here](https://docs.microsoft.com/quantum/install-guide/python?view=qsharp-preview) or you can run this presentation in your browser [here](TODO)."
   ]
  },
  {
   "cell_type": "markdown",
   "metadata": {
    "slideshow": {
     "slide_type": "slide"
    }
   },
   "source": [
    "## whoami: author, streamer, community builder...\n",
    "<br>\n",
    "<center>\n",
    "<img src=\"media/kaiser-bio.png\" width=\"55%\" align=\"center\"/>\n",
    "</center>"
   ]
  },
  {
   "cell_type": "markdown",
   "metadata": {
    "slideshow": {
     "slide_type": "slide"
    }
   },
   "source": [
    "## ... and a researcher  👩‍💻\n",
    "\n",
    "<br>\n",
    "<center>\n",
    "    <img src=\"media/kaiser-lab.jpg\" width=\"35%\">\n",
    "</center>"
   ]
  },
  {
   "cell_type": "markdown",
   "metadata": {
    "slideshow": {
     "slide_type": "slide"
    }
   },
   "source": [
    "## 📃Agenda\n",
    " \n",
    "1. Give you a tour of Q# and why we are using it for our research, \n",
    "2. show you a case study of using Q# to do research on qRAM, and\n",
    "3. share some open source tools and resources for how you can leverage Q# for your own research and studies!\n"
   ]
  },
  {
   "cell_type": "markdown",
   "metadata": {
    "slideshow": {
     "slide_type": "slide"
    }
   },
   "source": [
    "# Part 1: A tour of Q#"
   ]
  },
  {
   "cell_type": "markdown",
   "metadata": {
    "slideshow": {
     "slide_type": "slide"
    }
   },
   "source": [
    "## So many options...\n",
    "\n",
    "https://qosf.org/project_list/\n",
    "\n",
    "<center>\n",
    "    <img src=\"media/qsof.gif\" width=\"50%\">\n",
    "\n",
    "</center>"
   ]
  },
  {
   "cell_type": "markdown",
   "metadata": {
    "slideshow": {
     "slide_type": "slide"
    }
   },
   "source": [
    "### What we need:"
   ]
  },
  {
   "cell_type": "markdown",
   "metadata": {
    "slideshow": {
     "slide_type": "fragment"
    }
   },
   "source": [
    "- We want to implement _algorithms_\n",
    "  - We want to think about qRAM algorithms at a high level, not always specifically at the gate level\n",
    "  - Need the flexibility to create gate level optimizations as well"
   ]
  },
  {
   "cell_type": "markdown",
   "metadata": {
    "slideshow": {
     "slide_type": "fragment"
    }
   },
   "source": [
    "- We want to build tools to enable research and collaboration\n",
    "  - Need ways to packages our work and make it easy to share, collaborate, and reproduce\n",
    "  - We want to work with a community where we are all included"
   ]
  },
  {
   "cell_type": "markdown",
   "metadata": {
    "slideshow": {
     "slide_type": "slide"
    }
   },
   "source": [
    "# 📊 What do you know about Q#?"
   ]
  },
  {
   "cell_type": "markdown",
   "metadata": {
    "slideshow": {
     "slide_type": "slide"
    }
   },
   "source": [
    "# Q\\# : Microsoft's quantum programming language\n",
    "\n",
    "- New open source language that is domain-specific for quantum computing\n",
    "- Used with the [_Quantum Development Kit_](https://www.microsoft.com/en-us/quantum/development-kit) which provides lots of tools for writing and running your programs.\n",
    "- Designed to be integrated with a number of languages/platforms like Python and .NET"
   ]
  },
  {
   "cell_type": "markdown",
   "metadata": {
    "slideshow": {
     "slide_type": "slide"
    }
   },
   "source": [
    "<center>\n",
    "    <img src=\"media/stack.png\" width=\"80%\">\n",
    "</center>\n",
    "\n"
   ]
  },
  {
   "cell_type": "markdown",
   "metadata": {
    "slideshow": {
     "slide_type": "slide"
    }
   },
   "source": [
    "## What do I write in a Q# program?\n",
    "\n",
    "- **Functions**: `Sin`, `ln`, reversing arrays, etc.\n",
    "    - Deterministic actions, similar to mathematical definition for functions\n",
    "- **Operations**: Everything else 😁 \n",
    "    - Working with qubits is always an operation"
   ]
  },
  {
   "cell_type": "markdown",
   "metadata": {
    "slideshow": {
     "slide_type": "slide"
    }
   },
   "source": [
    "## Q# Hello World"
   ]
  },
  {
   "cell_type": "markdown",
   "metadata": {},
   "source": [
    "- The `:` here shows you what type an variable or return of a function or operation is\n",
    "- Everything in Q# is `()` in, `()` out"
   ]
  },
  {
   "cell_type": "code",
   "execution_count": null,
   "metadata": {
    "slideshow": {
     "slide_type": "-"
    }
   },
   "outputs": [],
   "source": [
    "function Greeting(name : String) : Unit {\n",
    "    Message($\"Hello World! Nice to meet you {name} 💖\");\n",
    "}"
   ]
  },
  {
   "cell_type": "code",
   "execution_count": null,
   "metadata": {
    "slideshow": {
     "slide_type": "-"
    }
   },
   "outputs": [],
   "source": [
    "%simulate Greeting name=\"Sarah\""
   ]
  },
  {
   "cell_type": "markdown",
   "metadata": {
    "slideshow": {
     "slide_type": "slide"
    }
   },
   "source": [
    "## Q# Hello _Quantum_ world"
   ]
  },
  {
   "cell_type": "code",
   "execution_count": null,
   "metadata": {
    "slideshow": {
     "slide_type": "-"
    }
   },
   "outputs": [],
   "source": [
    "open Microsoft.Quantum.Measurement;"
   ]
  },
  {
   "cell_type": "code",
   "execution_count": null,
   "metadata": {
    "slideshow": {
     "slide_type": "-"
    }
   },
   "outputs": [],
   "source": [
    "operation Qrng() : Result {\n",
    "    using (qubit = Qubit()) {   // Preparing the qubit\n",
    "        H(qubit);               // Do operation H\n",
    "        return MResetZ(qubit);  // Measure and reset qubit\n",
    "    }\n",
    "}"
   ]
  },
  {
   "cell_type": "code",
   "execution_count": null,
   "metadata": {
    "slideshow": {
     "slide_type": "-"
    }
   },
   "outputs": [],
   "source": [
    "%simulate Qrng"
   ]
  },
  {
   "cell_type": "markdown",
   "metadata": {
    "slideshow": {
     "slide_type": "skip"
    }
   },
   "source": [
    "## Functions + Types in Q#\n",
    "\n",
    "- Functions are ways to define deterministic, classical calculations.\n",
    "- Q# is a strongly typed language, with a variety of built-in types and ways for you to define your own!"
   ]
  },
  {
   "cell_type": "code",
   "execution_count": null,
   "metadata": {
    "slideshow": {
     "slide_type": "skip"
    }
   },
   "outputs": [],
   "source": [
    "// Library has the definition of the Complex type we use below.\n",
    "open Microsoft.Quantum.Math;"
   ]
  },
  {
   "cell_type": "code",
   "execution_count": null,
   "metadata": {
    "slideshow": {
     "slide_type": "skip"
    }
   },
   "outputs": [],
   "source": [
    "// A user defined type for an array of complex numbers.\n",
    "newtype ComplexArray = (Count : Int, Values : Complex[]);"
   ]
  },
  {
   "cell_type": "code",
   "execution_count": null,
   "metadata": {
    "slideshow": {
     "slide_type": "skip"
    }
   },
   "outputs": [],
   "source": [
    "// Converts an array of real numbers to a ComplexArray\n",
    "function AsComplexArray(data : Double[]) : ComplexArray {\n",
    "\n",
    "    // Start with a new ComplexArray to put your results in\n",
    "    mutable results = ComplexArray(0, new Complex[0]);\n",
    "\n",
    "    for (item in data) {\n",
    "        // update-and-reassign statement\n",
    "        set results w/= Values <- results::Values + [Complex(item, 0.)]; \n",
    "    }\n",
    "    \n",
    "    // Return the results with the Count named item filled out\n",
    "    return results w/ Count <- Length(results::Values); \n",
    "}\n",
    "\n",
    "function ConvertedData() : ComplexArray {\n",
    "    let data = [1.0, 2.0, 3.0];\n",
    "    return AsComplexArray(data);\n",
    "}"
   ]
  },
  {
   "cell_type": "code",
   "execution_count": null,
   "metadata": {
    "slideshow": {
     "slide_type": "skip"
    }
   },
   "outputs": [],
   "source": [
    "%simulate ConvertedData"
   ]
  },
  {
   "cell_type": "markdown",
   "metadata": {
    "slideshow": {
     "slide_type": "slide"
    }
   },
   "source": [
    "## `using` Qubits in Q#\n",
    "\n",
    "- Qubits are a resource that are requested from the runtime when you need them and returned when you are done."
   ]
  },
  {
   "cell_type": "code",
   "execution_count": null,
   "metadata": {
    "slideshow": {
     "slide_type": "-"
    }
   },
   "outputs": [],
   "source": [
    "operation Qrng() : Result {\n",
    "    using (qubit = Qubit()) {   // Preparing the qubit\n",
    "        H(qubit);               // Do operation H\n",
    "        return MResetZ(qubit);  // Measure and reset qubit\n",
    "    }\n",
    "}"
   ]
  },
  {
   "cell_type": "markdown",
   "metadata": {
    "slideshow": {
     "slide_type": "slide"
    }
   },
   "source": [
    "## Generating new operations in Q# ##"
   ]
  },
  {
   "cell_type": "markdown",
   "metadata": {
    "slideshow": {
     "slide_type": "-"
    }
   },
   "source": [
    "The _functors_ `Adjoint` and `Controlled` allow you to generate new operations without changes to your code to implement those versions."
   ]
  },
  {
   "cell_type": "code",
   "execution_count": null,
   "metadata": {
    "slideshow": {
     "slide_type": "-"
    }
   },
   "outputs": [],
   "source": [
    "operation ApplyMultiControlledNOT(control: Qubit[], target : Qubit) : Unit {\n",
    "    Controlled X(control, target);\n",
    "}"
   ]
  },
  {
   "cell_type": "code",
   "execution_count": null,
   "metadata": {
    "slideshow": {
     "slide_type": "slide"
    }
   },
   "outputs": [],
   "source": [
    "open Microsoft.Quantum.Diagnostics;\n",
    "\n",
    "operation UseCtlFunctor() : Unit {\n",
    "    using ((controls, target) = (Qubit[2], Qubit())) {\n",
    "        // Preparing uniform superposition\n",
    "        ApplyToEach(H, controls);\n",
    "        // Apply our controlledNOT\n",
    "        ApplyMultiControlledNOT(controls, target);\n",
    "        // Print simulator diagnostics\n",
    "        DumpMachine();\n",
    "        ResetAll(controls + [target]);\n",
    "    }  \n",
    "}"
   ]
  },
  {
   "cell_type": "markdown",
   "metadata": {
    "slideshow": {
     "slide_type": "slide"
    }
   },
   "source": [
    "### Q# programs can be run from:\n",
    "\n",
    "- the [command line](https://docs.microsoft.com/en-us/quantum/user-guide/host-programs?tabs=tabid-python#q-from-the-command-prompt), if built as stand-alone applications\n",
    "- [Python](https://docs.microsoft.com/quantum/quickstarts/install-python?tabs=tabid-conda) or [.NET](https://docs.microsoft.com/quantum/quickstarts/install-cs?tabs=tabid-cmdline%2Ctabid-csharp) language programs (C#, F#, etc.) for easy data processing and visualization\n",
    "- [Jupyter notebooks](https://docs.microsoft.com/quantum/quickstarts/install-jupyter?tabs=tabid-conda) with either Q# or Python kernels\n"
   ]
  },
  {
   "cell_type": "code",
   "execution_count": null,
   "metadata": {
    "slideshow": {
     "slide_type": "-"
    }
   },
   "outputs": [],
   "source": [
    "%simulate UseCtlFunctor"
   ]
  },
  {
   "cell_type": "markdown",
   "metadata": {
    "slideshow": {
     "slide_type": "slide"
    }
   },
   "source": [
    "## More than just simulation..."
   ]
  },
  {
   "cell_type": "code",
   "execution_count": null,
   "metadata": {
    "slideshow": {
     "slide_type": "-"
    }
   },
   "outputs": [],
   "source": [
    "%lsmagic"
   ]
  },
  {
   "cell_type": "markdown",
   "metadata": {
    "slideshow": {
     "slide_type": "slide"
    }
   },
   "source": [
    "### Example target machine: Execution tracing!"
   ]
  },
  {
   "cell_type": "code",
   "execution_count": null,
   "metadata": {
    "slideshow": {
     "slide_type": "-"
    }
   },
   "outputs": [],
   "source": [
    "%trace Qrng"
   ]
  },
  {
   "cell_type": "markdown",
   "metadata": {
    "slideshow": {
     "slide_type": "slide"
    }
   },
   "source": [
    "### Example target machine: Resource estimation!"
   ]
  },
  {
   "cell_type": "code",
   "execution_count": null,
   "metadata": {
    "slideshow": {
     "slide_type": "-"
    }
   },
   "outputs": [],
   "source": [
    "%estimate UseCtlFunctor"
   ]
  },
  {
   "cell_type": "markdown",
   "metadata": {
    "slideshow": {
     "slide_type": "slide"
    }
   },
   "source": [
    "## Unit testing in Q#\n",
    "\n",
    "- Great way to check that what we have typed matches paper results 😊"
   ]
  },
  {
   "cell_type": "code",
   "execution_count": null,
   "metadata": {
    "slideshow": {
     "slide_type": "-"
    }
   },
   "outputs": [],
   "source": [
    "open Microsoft.Quantum.Arrays;\n",
    "\n",
    "operation AllocateQubitRegister(numQubits : Int) : Unit {\n",
    "\n",
    "    Fact(numQubits > 0, \"Expected a positive number.\");\n",
    "    \n",
    "    using (register = Qubit[numQubits]) {\n",
    "        ApplyToEach(AssertQubit(Zero, _), register);\n",
    "    }\n",
    "    Message(\"Test passed!\");\n",
    "}"
   ]
  },
  {
   "cell_type": "code",
   "execution_count": null,
   "metadata": {
    "slideshow": {
     "slide_type": "slide"
    }
   },
   "outputs": [],
   "source": [
    "%simulate AllocateQubitRegister numQubits=5"
   ]
  },
  {
   "cell_type": "markdown",
   "metadata": {
    "slideshow": {
     "slide_type": "slide"
    }
   },
   "source": [
    "## Unit testing in Q# cont.\n",
    "\n",
    "- Helpful to test if qRAM optimizations still do the same thing\n",
    "- Q# uses the _Choi–Jamiłkowski isomorphism_ to make an assertion of operation equivalence to one about preparing states\n",
    "    <!--- We know that if you apply an operation and then it's adjoint, that should be an Identity operation\n",
    "    - Make a channel that applies your operation under test, and then the adjoint of your reference operation.\n",
    "    - If you start with a maximally entangled state, then apply the channel to one half of a maximally entangled state, then you can use state assertions to verify that you still have that same maximally entangled state.-->\n"
   ]
  },
  {
   "cell_type": "code",
   "execution_count": null,
   "metadata": {
    "slideshow": {
     "slide_type": "-"
    }
   },
   "outputs": [],
   "source": [
    "open Microsoft.Quantum.Diagnostics; \n",
    "\n",
    "operation ApplyCNOT(register : Qubit[])\n",
    ": Unit is Adj + Ctl {\n",
    "    CNOT(register[0], register[1]);\n",
    "}"
   ]
  },
  {
   "cell_type": "code",
   "execution_count": null,
   "metadata": {
    "slideshow": {
     "slide_type": "slide"
    }
   },
   "outputs": [],
   "source": [
    "operation ApplyCNOTTheOtherWay(register : Qubit[])\n",
    ": Unit is Adj + Ctl {\n",
    "    within {\n",
    "        ApplyToEachCA(H, register);\n",
    "    } \n",
    "    apply {\n",
    "        CNOT(register[1], register[0]);\n",
    "    }\n",
    "}\n",
    "\n",
    "operation CheckThatThisWorks() : Unit {\n",
    "    AssertOperationsEqualReferenced(2, ApplyCNOT, ApplyCNOTTheOtherWay);\n",
    "    Message(\"It works!\");\n",
    "}"
   ]
  },
  {
   "cell_type": "code",
   "execution_count": null,
   "metadata": {},
   "outputs": [],
   "source": [
    "%trace CheckThatThisWorks --depth=1"
   ]
  },
  {
   "cell_type": "markdown",
   "metadata": {
    "slideshow": {
     "slide_type": "slide"
    }
   },
   "source": [
    "## Our plan:\n",
    "\n",
    "🧰 **Step 1:** Use functions and operations to implement the qRAM proposals\n",
    "\n",
    "📚 **Step 2:** Use libraries, functors, and other features to reduce how much code we need to write\n",
    "\n",
    "🧪 **Step 3:** Use testing features to make sure our implementations are correct\n",
    "\n",
    "💰 **Step 4:** Profit! (also publish 📃)"
   ]
  },
  {
   "cell_type": "markdown",
   "metadata": {
    "slideshow": {
     "slide_type": "slide"
    }
   },
   "source": [
    "# Part 2: A case study of Q# driven research: The qRAM library: the musical"
   ]
  },
  {
   "cell_type": "markdown",
   "metadata": {
    "slideshow": {
     "slide_type": "slide"
    }
   },
   "source": [
    "## Quantum applications _might_ need memory\n",
    "\n",
    "- We need ways to transfer **classical data** to a **quantum system**\n",
    "- _Some_ quantum algorithms, particularly quantum machine learning, assume access to a quantum RAM to load and store data during calculations.\n",
    "- Queries at address $x$ can take many forms: \n",
    "    - Bit value as a phase (Grover's Algorithm): $\\left|x\\right\\rangle\\mapsto(-1)^{b_x}\\left|x\\right\\rangle$\n",
    "    - Bit value as a qubit (Element distinctness): $\\left|x\\right\\rangle\\left|0\\right\\rangle\\mapsto\\left|x\\right\\rangle\\left|b_x\\right\\rangle$\n",
    "    - Bit value as a complex vector of amplitudes (HHL Algorithm): $(b_0...b_n)\\mapsto\\sum\\limits_{j} b_j\\left|j\\right\\rangle$\n",
    "\n"
   ]
  },
  {
   "cell_type": "markdown",
   "metadata": {
    "slideshow": {
     "slide_type": "slide"
    }
   },
   "source": [
    "# Quantum Memories (aka qRAM)\n",
    "\n",
    "**Problem:** It is not clear if we will be able to do this eﬃciently at all, let alone in a fault-tolerant setting. \n",
    "\n",
    " ❗ _An algorithmic speedup **may not** translate to an actual speedup in an application if it is not eﬃcient to use data in the ﬁrst place!_\n",
    "\n",
    "😓 Physical limitations like coherence time, error rates, hardware supported gates, etc. contribute to the difficulty.\n",
    "\n",
    "💡 There are many different approaches, each optimizing for a particular resource. \n"
   ]
  },
  {
   "cell_type": "markdown",
   "metadata": {
    "slideshow": {
     "slide_type": "slide"
    }
   },
   "source": [
    "## Deep Dive: qRAM approaches and tradeoffs:\n",
    "\n",
    "#### http://bit.ly/between-the-bitlines\n",
    "\n",
    "<center>\n",
    "    <img src=\"media/olivia-talk-title.png\" width=\"48%\">\n",
    "\n",
    "</center>"
   ]
  },
  {
   "cell_type": "markdown",
   "metadata": {
    "slideshow": {
     "slide_type": "slide"
    }
   },
   "source": [
    "### So what's the path forward?\n",
    "\n",
    "- To find out **if qRAM will ever work**, we need to have a good way to **evaluate different proposals**.\n",
    "\n",
    "- How can we compare tons of papers when none provide implementations?\n",
    "\n",
    "<center>\n",
    "    <img src=\"https://media.giphy.com/media/lQ6iahDJqm9oldX5gh/source.gif\" width=\"40%\">\n",
    "</center> "
   ]
  },
  {
   "cell_type": "markdown",
   "metadata": {
    "slideshow": {
     "slide_type": "slide"
    }
   },
   "source": [
    "### Transparency is _critical_ for resource estimations\n",
    "\n",
    "- Assumptions about our testing and implementations need to be made uniformly and clearly\n",
    "- Others need to be able to reproduce our results and potentially modify to meet assumptions in their work\n",
    "\n",
    "<center>\n",
    "    <img src=\"https://media.giphy.com/media/c5eqVJN7oNLTq/source.gif\" width=\"40%\">\n",
    "</center>"
   ]
  },
  {
   "cell_type": "markdown",
   "metadata": {
    "slideshow": {
     "slide_type": "slide"
    }
   },
   "source": [
    "## We need:\n",
    "\n",
    "- A way to implement many different algorithms representing qRAM proposals,\n",
    "- count the resources needed for each proposal, and\n",
    "- do it in an open and reproducible way.\n",
    "\n",
    "<center>\n",
    "    <img src=\"media/wanted.png\" width=\"25%\">\n",
    "</center>\n"
   ]
  },
  {
   "cell_type": "markdown",
   "metadata": {},
   "source": [
    "### https://github.com/qsharp-community/qram\n",
    "\n",
    "\n",
    "<center>\n",
    "    <img src=\"media/github-screencap.png\" width=\"50%\">\n",
    "</center>"
   ]
  },
  {
   "cell_type": "markdown",
   "metadata": {
    "slideshow": {
     "slide_type": "slide"
    }
   },
   "source": [
    "## Basic layout:\n",
    "\n",
    "```\n",
    "├───📃 docs 📃\n",
    "├───🔮 samples 🔮\n",
    "│   ├───BucketBrigade\n",
    "│   ├───Grover\n",
    "│   ├───Qrom\n",
    "│   ├───ResourceEstimation\n",
    "│   └───SelectSwap\n",
    "├───✨ src ✨\n",
    "└───🧪 tests 🧪\n",
    "```"
   ]
  },
  {
   "cell_type": "markdown",
   "metadata": {
    "slideshow": {
     "slide_type": "slide"
    }
   },
   "source": [
    "# `src`: where qRAMs are implemented\n",
    "<center>\n",
    "    <img src=\"media/src-screenshot.png\" width=\"60%\">\n",
    "</center>"
   ]
  },
  {
   "cell_type": "markdown",
   "metadata": {
    "slideshow": {
     "slide_type": "slide"
    }
   },
   "source": [
    "### Currently implemented proposals:\n",
    "**qRAM**\n",
    "- Bucket Brigade (bit and phase queries) [0708.1879](https://arxiv.org/abs/0708.1879)\n",
    "\n",
    "**qROM**\n",
    "- Simple [0807.4994](https://arxiv.org/abs/0807.4994)\n",
    "- SELECTSWAP [1812.00954](https://arxiv.org/abs/1812.00954)"
   ]
  },
  {
   "cell_type": "markdown",
   "metadata": {
    "slideshow": {
     "slide_type": "slide"
    }
   },
   "source": [
    "## Using a qROM"
   ]
  },
  {
   "cell_type": "code",
   "execution_count": null,
   "metadata": {
    "slideshow": {
     "slide_type": "-"
    }
   },
   "outputs": [],
   "source": [
    "%package QSharpCommunity.Libraries.Qram::0.1.35"
   ]
  },
  {
   "cell_type": "markdown",
   "metadata": {
    "slideshow": {
     "slide_type": "slide"
    }
   },
   "source": [
    "## Libraries help us bootstrap"
   ]
  },
  {
   "cell_type": "code",
   "execution_count": null,
   "metadata": {
    "slideshow": {
     "slide_type": "-"
    }
   },
   "outputs": [],
   "source": [
    "open Microsoft.Quantum.Arrays;\n",
    "open Microsoft.Quantum.Arithmetic;\n",
    "open Microsoft.Quantum.Canon;\n",
    "open Microsoft.Quantum.Convert;\n",
    "open Microsoft.Quantum.Intrinsic;\n",
    "open Microsoft.Quantum.Measurement;\n",
    "open Qram;"
   ]
  },
  {
   "cell_type": "markdown",
   "metadata": {
    "slideshow": {
     "slide_type": "slide"
    }
   },
   "source": [
    "## Custom Types for quantum memories"
   ]
  },
  {
   "cell_type": "markdown",
   "metadata": {
    "slideshow": {
     "slide_type": "-"
    }
   },
   "source": [
    "```\n",
    "newtype QRAM = (\n",
    "    QueryPhase : ((AddressRegister, MemoryRegister, Qubit[]) => Unit is Adj + Ctl),\n",
    "    QueryBit : ((AddressRegister, MemoryRegister, Qubit[]) => Unit is Adj + Ctl), \n",
    "    Write : ((MemoryRegister, MemoryCell) => Unit), \n",
    "    AddressSize : Int,\n",
    "    DataSize : Int\n",
    ");\n",
    "```"
   ]
  },
  {
   "cell_type": "markdown",
   "metadata": {},
   "source": [
    "## We can use function and custom types to handle classical data"
   ]
  },
  {
   "cell_type": "code",
   "execution_count": null,
   "metadata": {
    "slideshow": {
     "slide_type": "-"
    }
   },
   "outputs": [],
   "source": [
    "function ExampleMemoryData() : MemoryBank {\n",
    "    let numDataBits = 3;\n",
    "    let data =  [\n",
    "        (0, IntAsBoolArray(0, numDataBits)), \n",
    "        (2, IntAsBoolArray(5, numDataBits)),\n",
    "        (4, IntAsBoolArray(2, numDataBits)),\n",
    "        (5, IntAsBoolArray(3, numDataBits))\n",
    "    ];\n",
    "    return GeneratedMemoryBank(Mapped(MemoryCell, data));\n",
    "}"
   ]
  },
  {
   "cell_type": "markdown",
   "metadata": {
    "slideshow": {
     "slide_type": "slide"
    }
   },
   "source": [
    "### Using a qROM (Read Only Memory)"
   ]
  },
  {
   "cell_type": "code",
   "execution_count": null,
   "metadata": {
    "slideshow": {
     "slide_type": "-"
    }
   },
   "outputs": [],
   "source": [
    "operation QueryAndMeasureQrom(memory : QROM, queryAddress : Int) : Int {\n",
    "    using ((addressRegister, targetRegister) = (Qubit[memory::AddressSize], Qubit[memory::DataSize])) {\n",
    "        // Encode our query address\n",
    "        ApplyPauliFromBitString (PauliX, true, IntAsBoolArray(queryAddress, memory::AddressSize), addressRegister);\n",
    "        \n",
    "        // Read from the memory\n",
    "        memory::Read(LittleEndian(addressRegister), targetRegister);\n",
    "        ResetAll(addressRegister);\n",
    "        \n",
    "        // Measure the target register as an integer\n",
    "        return MeasureInteger(LittleEndian(targetRegister));\n",
    "    }\n",
    "}"
   ]
  },
  {
   "cell_type": "code",
   "execution_count": null,
   "metadata": {
    "slideshow": {
     "slide_type": "slide"
    }
   },
   "outputs": [],
   "source": [
    "operation QueryQrom(queryAddress : Int) : Int {\n",
    "    // Generate a (Int, Bool[]) array of data.\n",
    "    let data = ExampleMemoryData();\n",
    "    // Create the QRAM.\n",
    "    let memory = QromOracle(data::DataSet);\n",
    "    // Measure and return the data value stored at `queryAddress`.\n",
    "    return QueryAndMeasureQrom(memory, queryAddress);\n",
    "}"
   ]
  },
  {
   "cell_type": "markdown",
   "metadata": {
    "slideshow": {
     "slide_type": "slide"
    }
   },
   "source": [
    "### Using a qROM"
   ]
  },
  {
   "cell_type": "markdown",
   "metadata": {
    "slideshow": {
     "slide_type": "-"
    }
   },
   "source": [
    "```\n",
    "// data: {(0, 0), (2, 5), (4, 2), (5, 3)}\n",
    "```"
   ]
  },
  {
   "cell_type": "code",
   "execution_count": null,
   "metadata": {
    "slideshow": {
     "slide_type": "-"
    }
   },
   "outputs": [],
   "source": [
    "%simulate QueryQrom queryAddress=2"
   ]
  },
  {
   "cell_type": "code",
   "execution_count": null,
   "metadata": {
    "slideshow": {
     "slide_type": "-"
    }
   },
   "outputs": [],
   "source": [
    "%estimate QueryQrom queryAddress=2"
   ]
  },
  {
   "cell_type": "markdown",
   "metadata": {
    "slideshow": {
     "slide_type": "slide"
    }
   },
   "source": [
    "# `tests`: ✔ our work\n",
    "- Can run small instances on simulators\n",
    "- Can verify resource counts on larger instances\n",
    "\n",
    "<center>\n",
    "    <img src=\"media/tests-screenshot.png\" width=\"40%\">\n",
    "</center>\n"
   ]
  },
  {
   "cell_type": "markdown",
   "metadata": {
    "slideshow": {
     "slide_type": "slide"
    }
   },
   "source": [
    "# `docs`: help others use our work💪\n",
    "\n",
    "<center>\n",
    "    <img src=\"media/docs.png\" width=\"60%\">\n",
    "</center>"
   ]
  },
  {
   "cell_type": "markdown",
   "metadata": {
    "slideshow": {
     "slide_type": "slide"
    }
   },
   "source": [
    "# What's next for the qRAM library?\n",
    "\n",
    "🔍 Detailed resource counting for subroutines of our programs\n",
    "\n",
    "📓 More documentation in an interactive browser\n",
    "\n",
    "📄 Research paper compiling our results\n",
    "\n",
    "❓ More qRAM/qROM proposals "
   ]
  },
  {
   "cell_type": "markdown",
   "metadata": {
    "slideshow": {
     "slide_type": "slide"
    }
   },
   "source": [
    "<figure style=\"text-align: left;\">\n",
    "        <caption>\n",
    "    </caption>\n",
    "    <img src=\"media/milestones.png\" width=\"50%\">\n",
    "\n",
    "</figure>"
   ]
  },
  {
   "cell_type": "markdown",
   "metadata": {
    "slideshow": {
     "slide_type": "slide"
    }
   },
   "source": [
    "# Part 4: How can you start your own Q# project?\n",
    "\n",
    "### a.k.a. best pratice open source devlopment for research!"
   ]
  },
  {
   "cell_type": "markdown",
   "metadata": {
    "slideshow": {
     "slide_type": "slide"
    }
   },
   "source": [
    "### 💾 Open Source Software (OSS)\n",
    "Software that can be freely accessed, used, changed, and shared (in modified or unmodified form) by anyone."
   ]
  },
  {
   "cell_type": "markdown",
   "metadata": {
    "slideshow": {
     "slide_type": "fragment"
    }
   },
   "source": [
    "### 🙌Open Source Community\n",
    "Everything _except_ the code\n",
    "\n",
    "- Licences\n",
    "- Processes and governance\n",
    "- Funding\n",
    "- Blogging and Social Media\n",
    "- Diversity\n",
    "- etc."
   ]
  },
  {
   "cell_type": "markdown",
   "metadata": {
    "slideshow": {
     "slide_type": "slide"
    }
   },
   "source": [
    "## Let's `import` OSS best pratices to the quantum relm!\n",
    "There are _**tons**_ of resources for building both open source projects and communities from the classical software community:\n",
    "- https://opensourcediversity.org/\n",
    "- https://opensource.guide/building-community/\n",
    "- Talk: [Building Open Source Communities - Tierney Cyren](https://www.youtube.com/watch?v=9owWEY5pmJg)\n",
    "\n",
    "<!--<figure style=\"margin-left:auto; margin-right:auto;\">\n",
    "    <img src=\"https://media.giphy.com/media/iHyVaHfEYXZos8qPX2/source.gif\" width=\"35%\">\n",
    "    <caption>\n",
    "      <br>  \n",
    "        <strong></strong>\n",
    "    </caption>\n",
    "</figure>-->\n",
    "\n",
    "\n"
   ]
  },
  {
   "cell_type": "markdown",
   "metadata": {
    "slideshow": {
     "slide_type": "slide"
    }
   },
   "source": [
    "## What does open source research look like?\n",
    "\n",
    "- All source code/data is included when publishing\n",
    "    - Raw data is included if possible, as well as all suplimentary instructions you used to get from that data to your results\n",
    "    - Automation (and OSS) is your friend 😁\n",
    "- Cite and donate to open source projects used in your research\n",
    "- Use free open source tools and platforms so it is easy for others to use and extend your work"
   ]
  },
  {
   "cell_type": "markdown",
   "metadata": {
    "slideshow": {
     "slide_type": "slide"
    }
   },
   "source": [
    "## We need to find (or create!) OSS communities in Quantum Computing\n",
    "\n",
    "- QOSF: Quantum Open Source Foundation\n",
    "- Q# Community\n",
    "- WIQCA: Women in Quantum Computing and Applications\n",
    "- Unitary Fund\n",
    "- ...and more!\n",
    "\n",
    "❗ We also need to understand how the _quantum research_ and _industry_ communities influence our communities."
   ]
  },
  {
   "cell_type": "markdown",
   "metadata": {
    "slideshow": {
     "slide_type": "slide"
    }
   },
   "source": [
    "## Q# community: a usergroup suporting open source quantum development + research\n",
    "\n",
    "**Mission:** we want to _empower everyone_ to get involved in quantum development."
   ]
  },
  {
   "cell_type": "markdown",
   "metadata": {
    "slideshow": {
     "slide_type": "fragment"
    }
   },
   "source": [
    "- Make sure everyone feels **safe and welcome** in our spaces\n"
   ]
  },
  {
   "cell_type": "markdown",
   "metadata": {
    "slideshow": {
     "slide_type": "fragment"
    }
   },
   "source": [
    "- Understand **how the community communicates**, and setup tools that work for them $\\to$ [bit.ly/qsharp-slack](bit.ly/qsharp-slack) "
   ]
  },
  {
   "cell_type": "markdown",
   "metadata": {
    "slideshow": {
     "slide_type": "fragment"
    }
   },
   "source": [
    "- Ensure we can support for **members of all skill levels**"
   ]
  },
  {
   "cell_type": "markdown",
   "metadata": {
    "slideshow": {
     "slide_type": "slide"
    }
   },
   "source": [
    "## Check us out @ [qsharp.community](qsharp.community)!\n",
    "\n",
    "<center>\n",
    "    <img src=\"media/qsc.png\" width=\"50%\">\n",
    "</center>"
   ]
  },
  {
   "cell_type": "markdown",
   "metadata": {
    "slideshow": {
     "slide_type": "slide"
    }
   },
   "source": [
    "## Selection of other Q# community projects:\n",
    "\n",
    "<figure style=\"text-align: left;\">\n",
    "    <img src=\"media/qsc-projects.png\" width=\"80%\">\n",
    "</figure>"
   ]
  },
  {
   "cell_type": "markdown",
   "metadata": {
    "slideshow": {
     "slide_type": "slide"
    }
   },
   "source": [
    "## Case study: How does the qRAM team work?\n",
    "\n",
    "- Standing time each day for core devs to check in if needed (sort out blocking issues)\n",
    "- Slack channel for design discussions and issue/bug feedback\n",
    "- We use multiple operating systems and development toolsets, so tools like Visual Studio Code was great\n",
    "- Program with the community in the open, with everyone. Literally! \n",
    "    - [Twitch.tv/crazy4pi314](https://www.twitch.tv/crazy4pi314) + Visual Studio/Visual Studio Code [Liveshare](https://visualstudio.microsoft.com/services/live-share/)\n",
    "    <figure style=\"text-align: left;\">\n",
    "    <img src=\"https://visualstudio.microsoft.com/wp-content/uploads/2018/11/v2-Edit-Comp_FINAL-optimized840.gif\" width=\"60%\">\n",
    "</figure>"
   ]
  },
  {
   "cell_type": "markdown",
   "metadata": {
    "slideshow": {
     "slide_type": "slide"
    }
   },
   "source": [
    "## New 🔨 we made while building qRAM\n",
    "\n",
    "- Q# library [project templates](https://github.com/crazy4pi314/qsharp-library-template) to make it easier for others to start building a new library for Q# from scratch\n",
    "    - [Contribution guide](https://github.com/qsharp-community/qram/blob/master/CONTRIBUTING.md)\n",
    "    - [Code of Conduct](https://github.com/qsharp-community/qram/blob/master/CODE_OF_CONDUCT.md)\n",
    "    - [Basic build automation + testing framework](https://github.com/qsharp-community/qram/actions)\n",
    "- Containers/portable development environments so that we don't have the \"well it worked on my machine\" problem\n",
    "    - Tools like [MyBinder](https://mybinder.org/) and [remote development environments](https://code.visualstudio.com/docs/remote/containers) can be super helpful"
   ]
  },
  {
   "cell_type": "markdown",
   "metadata": {
    "slideshow": {
     "slide_type": "slide"
    }
   },
   "source": [
    "## Want to start doing research in Q#?\n",
    "\n",
    "📑 [docs.microsoft.com/quantum](docs.microsoft.com/quantum)\n",
    "\n",
    "📗 _Learn Quantum Computing with Python and Q#_: [bit.ly/qsharp-book](bit.ly/qsharp-book)\n",
    "\n",
    "📺 Live quantum development on Twitch: [twitch.tv/crazy4pi314](twitch.tv/crazy4pi314)\n",
    "\n",
    "🧩 Template repo for Q# projects complete with LaTeX paper setup [TODO]()\n"
   ]
  },
  {
   "cell_type": "markdown",
   "metadata": {
    "slideshow": {
     "slide_type": "slide"
    }
   },
   "source": [
    "# 📝 Review 📝\n",
    "\n",
    "- Q# is a high level, open-source language for writing _quantum algorithms_ in a portable and reproducable way ✔\n",
    "- We have implemented a number of proposals for qRAMs in a Q# library and are working on resource estimation ✔\n",
    "- The open source community is a great resource for reproducable research ✔\n",
    "    - Q# community is a great place for help when you are working on Q# projects ✔"
   ]
  },
  {
   "cell_type": "markdown",
   "metadata": {
    "slideshow": {
     "slide_type": "slide"
    }
   },
   "source": [
    "## 👩‍💻Quantum programming resources!👩‍💻\n",
    "\n",
    "- Q# Documentation: [docs.microsoft.com/quantum](https://docs.microsoft.com/quantum)\n",
    "- _Learn Quantum Computing with Python and Q\\#_ : [bit.ly/qsharp-book](http://www.manning.com/?a_aid=learn-qc-kaiser)\n",
    "- Community: [qsharp.community](https://qsharp.community/)\n",
    "    - Q# Community Slack [bit.ly/qsharp-slack](https://bit.ly/qsharp-slack)\n",
    "    - Women in Quantum Computing and Algorithms (WIQCA): [wiqca.dev](https://wiqca.dev)\n",
    "    - Quantum Open Source Foundation: [qosf.org](https://www.qosf.org/)\n",
    "    - Unitary Fund [unitary.fund](https://unitary.fund/)"
   ]
  }
 ],
 "metadata": {
  "celltoolbar": "Slideshow",
  "kernelspec": {
   "display_name": "Q#",
   "language": "qsharp",
   "name": "iqsharp"
  },
  "language_info": {
   "file_extension": ".qs",
   "mimetype": "text/x-qsharp",
   "name": "qsharp",
   "version": "0.12"
  },
  "livereveal": {
   "autolaunch": true,
   "scroll": true
  },
  "rise": {
   "controls": false
  }
 },
 "nbformat": 4,
 "nbformat_minor": 2
}
